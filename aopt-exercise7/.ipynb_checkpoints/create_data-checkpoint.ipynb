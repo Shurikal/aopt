{
 "cells": [
  {
   "cell_type": "code",
   "execution_count": 24,
   "id": "4ba824aa-c086-460a-af36-681023e01aa1",
   "metadata": {},
   "outputs": [],
   "source": [
    "path = \"cmake-build-debug/Build/bin/\"\n",
    "gauss = \"./GaussNewton 1 5 5 100 test\""
   ]
  },
  {
   "cell_type": "code",
   "execution_count": 6,
   "id": "fc0fdc51-b91f-4eda-9b39-e1254fb589ea",
   "metadata": {},
   "outputs": [
    {
     "ename": "FileNotFoundError",
     "evalue": "[Errno 2] No such file or directory: 'cmake-build-debug/Build/bin/'",
     "output_type": "error",
     "traceback": [
      "\u001b[0;31m---------------------------------------------------------------------------\u001b[0m",
      "\u001b[0;31mFileNotFoundError\u001b[0m                         Traceback (most recent call last)",
      "\u001b[0;32m/var/folders/cw/ywlpl1tx6m5dyzys99jgnjph0000gn/T/ipykernel_63491/3426654767.py\u001b[0m in \u001b[0;36m<module>\u001b[0;34m\u001b[0m\n\u001b[1;32m      1\u001b[0m \u001b[0;32mimport\u001b[0m \u001b[0mos\u001b[0m\u001b[0;34m\u001b[0m\u001b[0;34m\u001b[0m\u001b[0m\n\u001b[0;32m----> 2\u001b[0;31m \u001b[0mos\u001b[0m\u001b[0;34m.\u001b[0m\u001b[0mchdir\u001b[0m\u001b[0;34m(\u001b[0m\u001b[0mpath\u001b[0m\u001b[0;34m)\u001b[0m\u001b[0;34m\u001b[0m\u001b[0;34m\u001b[0m\u001b[0m\n\u001b[0m",
      "\u001b[0;31mFileNotFoundError\u001b[0m: [Errno 2] No such file or directory: 'cmake-build-debug/Build/bin/'"
     ]
    }
   ],
   "source": [
    "import os\n",
    "os.chdir(path)\n"
   ]
  },
  {
   "cell_type": "code",
   "execution_count": 8,
   "id": "f0f29053-01c4-411b-965d-ab442e40c139",
   "metadata": {},
   "outputs": [
    {
     "name": "stdout",
     "output_type": "stream",
     "text": [
      "/Users/chris/Documents/GitHub/aopt/aopt-exercise7/cmake-build-debug/Build/bin\n"
     ]
    }
   ],
   "source": [
    "print(os.getcwd())"
   ]
  },
  {
   "cell_type": "code",
   "execution_count": 28,
   "id": "4596c994-8dd1-4c38-8d72-9be6569ad8e2",
   "metadata": {},
   "outputs": [
    {
     "name": "stdout",
     "output_type": "stream",
     "text": [
      "stdout: 'b'\\nInitial MassSpring system energy is 0\\nSaving initial spring graph to test_*.csv\\n******** Newton Method ********\\nSaving optimized spring graph to test_opt_*.csv\\n''\n",
      "stderr: 'b'Warning: LLT factorization has numerical issue!\\n######## Timing statistics ########\\ntotal time    : 0.000682s\\ntotal time evaluation : 0s  (0 %)\\neval_f time   : 0.00000s  ( #evals: 0 -> avg nans )\\neval_grad time: 0.00000s  ( #evals: 1 -> avg 0.00000s, factor: nan)\\neval_hess time: 0.00000s  ( #evals: 1 -> avg 0.00000s, factor: nan)\\n''\n",
      "b'Warning: LLT factorization has numerical issue!\\n######## Timing statistics ########\\ntotal time    : 0.000682s\\ntotal time evaluation : 0s  (0 %)\\neval_f time   : 0.00000s  ( #evals: 0 -> avg nans )\\neval_grad time: 0.00000s  ( #evals: 1 -> avg 0.00000s, factor: nan)\\neval_hess time: 0.00000s  ( #evals: 1 -> avg 0.00000s, factor: nan)\\n'\n"
     ]
    }
   ],
   "source": [
    "from subprocess import PIPE, Popen\n",
    "\n",
    "p = Popen(gauss, shell=True, stdout=PIPE, stderr=PIPE)\n",
    "stdout, stderr = p.communicate()\n",
    "print (\"stdout: '%s'\" % stdout)\n",
    "print (\"stderr: '%s'\" % stderr)\n",
    "print(str(stderr))"
   ]
  },
  {
   "cell_type": "code",
   "execution_count": null,
   "id": "a531ee7b-781f-420a-91e0-9e9c03fbe449",
   "metadata": {},
   "outputs": [],
   "source": [
    ".*total[ ]*time[ ]*:[ ]*([0-9.]+)s.*total[ ]*time[ ]*evaluation[ ]*:[ ]*([0-9.]+)s.*eval_f[ ]*time[ ]*:[ ]*([0-9.]+)s.*eval_grad[ ]*time[ ]*:[ ]*([0-9.]+)s"
   ]
  },
  {
   "cell_type": "code",
   "execution_count": 32,
   "id": "df31ec59-93f3-46d4-b3f0-5087b35970a7",
   "metadata": {},
   "outputs": [
    {
     "name": "stdout",
     "output_type": "stream",
     "text": [
      "Total time:  0.000682\n",
      "Total time evaluation:  0\n",
      "eval_f time:  0.00000\n",
      "eval_grad time:  0.00000\n",
      "eval_hessian time:  0.00000\n"
     ]
    }
   ],
   "source": [
    "import re\n",
    "\n",
    "pattern = re.compile(r\".*total[ ]*time[ ]*:[ ]*([0-9.]+)s.*total[ ]*time[ ]*evaluation[ ]*:[ ]*([0-9.]+)s.*eval_f[ ]*time[ ]*:[ ]*([0-9.]+)s.*eval_grad[ ]*time[ ]*:[ ]*([0-9.]+)s.*eval_hess[ ]*time[ ]*:[ ]*([0-9.]+)s.*\", re.MULTILINE | re.DOTALL)\n",
    "for match in pattern.finditer(str(stderr)):\n",
    "    print(\"Total time: \",match.group(1))\n",
    "    print(\"Total time evaluation: \",match.group(2))\n",
    "    print(\"eval_f time: \", match.group(3))\n",
    "    print(\"eval_grad time: \",match.group(4))\n",
    "    print(\"eval_hessian time: \",match.group(5))"
   ]
  },
  {
   "cell_type": "code",
   "execution_count": null,
   "id": "94f49c6b-23cd-4582-af06-a0408629355a",
   "metadata": {},
   "outputs": [],
   "source": []
  }
 ],
 "metadata": {
  "kernelspec": {
   "display_name": "Python 3 (ipykernel)",
   "language": "python",
   "name": "python3"
  },
  "language_info": {
   "codemirror_mode": {
    "name": "ipython",
    "version": 3
   },
   "file_extension": ".py",
   "mimetype": "text/x-python",
   "name": "python",
   "nbconvert_exporter": "python",
   "pygments_lexer": "ipython3",
   "version": "3.9.7"
  }
 },
 "nbformat": 4,
 "nbformat_minor": 5
}
