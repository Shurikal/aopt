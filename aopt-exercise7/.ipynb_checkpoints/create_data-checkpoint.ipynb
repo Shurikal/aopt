{
 "cells": [
  {
   "cell_type": "code",
   "execution_count": 1,
   "id": "4ba824aa-c086-460a-af36-681023e01aa1",
   "metadata": {},
   "outputs": [],
   "source": [
    "path = \"cmake-build-debug/Build/bin/\"\n",
    "\n",
    "max_iters = 1000000\n",
    "\n",
    "dimensions = [5,10,20]\n",
    "\n",
    "cmds = [{ \n",
    "            \"name\": \"gauss_newton\",\n",
    "            \"cmd\" : \"GaussNewton {function_index} {x} {y} {max_iter} {filename}\"\n",
    "        },\n",
    "        {\n",
    "            \"name\": \"grad_desc\",\n",
    "            \"cmd\" : \"GradientDescent {function_index} 1 {x} {y} {max_iter} {filename}\"\n",
    "        },\n",
    "        {\n",
    "            \"name\": \"lbfgs_m20\",\n",
    "            \"cmd\" : \"LBFGS {function_index} {x} {y} {m} {max_iter} {filename}\",\n",
    "            \"m\"   : 20\n",
    "            \n",
    "        },\n",
    "        {\n",
    "            \"name\": \"newt_methods\",\n",
    "            \"cmd\" : \"NewtonMethods {method} {function_index} {x} {y} {max_iter} {filename}\",\n",
    "            \"method\" : 0,\n",
    "            \"function_index\" : 2\n",
    "        }\n",
    "        ]"
   ]
  },
  {
   "cell_type": "code",
   "execution_count": 2,
   "id": "1cad5de8-86f1-4fb2-b5e5-aea01a6c6edc",
   "metadata": {},
   "outputs": [
    {
     "data": {
      "text/plain": [
       "'GradientDescent 1 1 1 1 20 asdf'"
      ]
     },
     "execution_count": 2,
     "metadata": {},
     "output_type": "execute_result"
    }
   ],
   "source": [
    "cmds[1][\"cmd\"].format(method=2,function_index=1,x=1,y=1,max_iter=20,filename=\"asdf\")"
   ]
  },
  {
   "cell_type": "code",
   "execution_count": 11,
   "id": "a0f473ad-a8cb-4adf-a936-4fd23a9a31d1",
   "metadata": {},
   "outputs": [],
   "source": [
    "def create_cmd(cmd_entry,size,function_index=0,max_iter=1000000):\n",
    "    spring = \"wol\" if function_index==0 else \"wl\"\n",
    "    m = 0\n",
    "    method = 0\n",
    "    if \"m\" in cmd_entry:\n",
    "        m = cmd_entry[\"m\"]\n",
    "    if \"method\" in cmd_entry:\n",
    "        method = cmd_entry[\"method\"]\n",
    "    if \"function_index\" in cmd_entry and function_index == 1:\n",
    "        function_index = cmd_entry[\"function_index\"]\n",
    "        spring = \"wl_pHess\"\n",
    "    \n",
    "    return cmd_entry[\"cmd\"].format(function_index=function_index,\n",
    "                                   x=size,\n",
    "                                   y=size,\n",
    "                                   max_iter=max_iter,\n",
    "                                   filename=cmd_entry[\"name\"]+\"_\"+spring+\"_\"+str(size)+\"x\"+str(size),\n",
    "                                   m=m,\n",
    "                                   method=method)"
   ]
  },
  {
   "cell_type": "code",
   "execution_count": 12,
   "id": "eb48fb48-6b18-44c4-b1ae-2c32e1f2d8d4",
   "metadata": {},
   "outputs": [
    {
     "data": {
      "text/plain": [
       "'LBFGS 1 5 5 20 1000000 lbfgs_m20_wl_5x5'"
      ]
     },
     "execution_count": 12,
     "metadata": {},
     "output_type": "execute_result"
    }
   ],
   "source": [
    "create_cmd(cmds[2],5,1)"
   ]
  },
  {
   "cell_type": "markdown",
   "id": "7a28a93b-186c-4ced-85cc-aa444bbcdc94",
   "metadata": {},
   "source": [
    "# Different commands\n",
    "\n",
    "❯ ./GaussNewton\n",
    "Usage: input should be 'function index(0: f without length, 1: f with length), number of grid in x, number of grid in y, max iteration, filename', e.g. ./GaussNewton 1 20 20 10000 /usr/spring\n",
    "\n",
    "❯ ./GradientDescent\n",
    "Usage: input should be 'function index(0: f without length, 1: f with length),constrained spring scenario  (1 or 2 )number of grid in x, number of grid in y, max iteration, filename', e.g. ./GradientDescent 0 2 2 10000 /usr/spring\n",
    "\n",
    "❯ ./LBFGS\n",
    "Usage: input should be 'function index(0: f without length, 1: f with length), number of grid in x, number of grid in y, m, max iteration, filename', e.g. ./LBFGS 1 20 20 10 10000 /usr/spring\n",
    "\n",
    "❯ ./NewtonMethods\n",
    "Usage: input should be 'newton's method(0: standard newton, 1: projected hessian),function index(0: f without length, 1: f with length, 2: f with length with positive local hessian), number of grid in x, number of grid in y, max iteration, filename', e.g. ./NewtonMethods 0 0 2 2 10000 /usr/spring"
   ]
  },
  {
   "cell_type": "code",
   "execution_count": 4,
   "id": "fc0fdc51-b91f-4eda-9b39-e1254fb589ea",
   "metadata": {},
   "outputs": [
    {
     "name": "stdout",
     "output_type": "stream",
     "text": [
      "/Users/chris/Documents/GitHub/aopt/aopt-exercise7\n"
     ]
    }
   ],
   "source": [
    "import os\n",
    "print(os.getcwd())"
   ]
  },
  {
   "cell_type": "code",
   "execution_count": 5,
   "id": "2b78ea08-19b0-444b-95f9-0df7faac91dc",
   "metadata": {},
   "outputs": [],
   "source": [
    "os.chdir(path)\n"
   ]
  },
  {
   "cell_type": "code",
   "execution_count": 6,
   "id": "f0f29053-01c4-411b-965d-ab442e40c139",
   "metadata": {},
   "outputs": [
    {
     "name": "stdout",
     "output_type": "stream",
     "text": [
      "/Users/chris/Documents/GitHub/aopt/aopt-exercise7/cmake-build-debug/Build/bin\n"
     ]
    }
   ],
   "source": [
    "print(os.getcwd())"
   ]
  },
  {
   "cell_type": "code",
   "execution_count": 11,
   "id": "4596c994-8dd1-4c38-8d72-9be6569ad8e2",
   "metadata": {},
   "outputs": [
    {
     "name": "stdout",
     "output_type": "stream",
     "text": [
      "stdout: 'b'\\nInitial MassSpring system energy is 0\\nSaving initial spring graph to test_*.csv\\n******** Newton Method ********\\nSaving optimized spring graph to test_opt_*.csv\\n''\n",
      "stderr: 'b'Warning: LLT factorization has numerical issue!\\n######## Timing statistics ########\\ntotal time    : 0.002949s\\ntotal time evaluation : 0s  (0 %)\\neval_f time   : 0.00000s  ( #evals: 0 -> avg nans )\\neval_grad time: 0.00000s  ( #evals: 1 -> avg 0.00000s, factor: nan)\\neval_hess time: 0.00000s  ( #evals: 1 -> avg 0.00000s, factor: nan)\\n''\n",
      "b'Warning: LLT factorization has numerical issue!\\n######## Timing statistics ########\\ntotal time    : 0.002949s\\ntotal time evaluation : 0s  (0 %)\\neval_f time   : 0.00000s  ( #evals: 0 -> avg nans )\\neval_grad time: 0.00000s  ( #evals: 1 -> avg 0.00000s, factor: nan)\\neval_hess time: 0.00000s  ( #evals: 1 -> avg 0.00000s, factor: nan)\\n'\n"
     ]
    }
   ],
   "source": [
    "from subprocess import PIPE, Popen\n",
    "\n",
    "p = Popen(gauss, shell=True, stdout=PIPE, stderr=PIPE)\n",
    "stdout, stderr = p.communicate()\n",
    "print (\"stdout: '%s'\" % stdout)\n",
    "print (\"stderr: '%s'\" % stderr)\n",
    "print(str(stderr))"
   ]
  },
  {
   "cell_type": "code",
   "execution_count": 7,
   "id": "df31ec59-93f3-46d4-b3f0-5087b35970a7",
   "metadata": {},
   "outputs": [
    {
     "ename": "NameError",
     "evalue": "name 'stderr' is not defined",
     "output_type": "error",
     "traceback": [
      "\u001b[0;31m---------------------------------------------------------------------------\u001b[0m",
      "\u001b[0;31mNameError\u001b[0m                                 Traceback (most recent call last)",
      "\u001b[0;32m/var/folders/cw/ywlpl1tx6m5dyzys99jgnjph0000gn/T/ipykernel_68147/2951636567.py\u001b[0m in \u001b[0;36m<module>\u001b[0;34m\u001b[0m\n\u001b[1;32m      3\u001b[0m \u001b[0msystem_energy_pattern\u001b[0m \u001b[0;34m=\u001b[0m \u001b[0mre\u001b[0m\u001b[0;34m.\u001b[0m\u001b[0mcompile\u001b[0m\u001b[0;34m(\u001b[0m\u001b[0;34mr\".*energy[ ]*is[ ]([0-9.]+).*\"\u001b[0m\u001b[0;34m)\u001b[0m\u001b[0;34m\u001b[0m\u001b[0;34m\u001b[0m\u001b[0m\n\u001b[1;32m      4\u001b[0m \u001b[0mtiming_pattern\u001b[0m \u001b[0;34m=\u001b[0m \u001b[0mre\u001b[0m\u001b[0;34m.\u001b[0m\u001b[0mcompile\u001b[0m\u001b[0;34m(\u001b[0m\u001b[0;34mr\".*total[ ]*time[ ]*:[ ]*([0-9.]+)s.*total[ ]*time[ ]*evaluation[ ]*:[ ]*([0-9.]+)s.*eval_f[ ]*time[ ]*:[ ]*([0-9.]+)s.*eval_grad[ ]*time[ ]*:[ ]*([0-9.]+)s.*eval_hess[ ]*time[ ]*:[ ]*([0-9.]+)s.*\"\u001b[0m\u001b[0;34m,\u001b[0m \u001b[0mre\u001b[0m\u001b[0;34m.\u001b[0m\u001b[0mMULTILINE\u001b[0m \u001b[0;34m|\u001b[0m \u001b[0mre\u001b[0m\u001b[0;34m.\u001b[0m\u001b[0mDOTALL\u001b[0m\u001b[0;34m)\u001b[0m\u001b[0;34m\u001b[0m\u001b[0;34m\u001b[0m\u001b[0m\n\u001b[0;32m----> 5\u001b[0;31m \u001b[0;32mfor\u001b[0m \u001b[0mmatch\u001b[0m \u001b[0;32min\u001b[0m \u001b[0mtiming_pattern\u001b[0m\u001b[0;34m.\u001b[0m\u001b[0mfinditer\u001b[0m\u001b[0;34m(\u001b[0m\u001b[0mstr\u001b[0m\u001b[0;34m(\u001b[0m\u001b[0mstderr\u001b[0m\u001b[0;34m)\u001b[0m\u001b[0;34m)\u001b[0m\u001b[0;34m:\u001b[0m\u001b[0;34m\u001b[0m\u001b[0;34m\u001b[0m\u001b[0m\n\u001b[0m\u001b[1;32m      6\u001b[0m     \u001b[0mprint\u001b[0m\u001b[0;34m(\u001b[0m\u001b[0;34m\"Total time: \"\u001b[0m\u001b[0;34m,\u001b[0m\u001b[0mmatch\u001b[0m\u001b[0;34m.\u001b[0m\u001b[0mgroup\u001b[0m\u001b[0;34m(\u001b[0m\u001b[0;36m1\u001b[0m\u001b[0;34m)\u001b[0m\u001b[0;34m)\u001b[0m\u001b[0;34m\u001b[0m\u001b[0;34m\u001b[0m\u001b[0m\n\u001b[1;32m      7\u001b[0m     \u001b[0mprint\u001b[0m\u001b[0;34m(\u001b[0m\u001b[0;34m\"Total time evaluation: \"\u001b[0m\u001b[0;34m,\u001b[0m\u001b[0mmatch\u001b[0m\u001b[0;34m.\u001b[0m\u001b[0mgroup\u001b[0m\u001b[0;34m(\u001b[0m\u001b[0;36m2\u001b[0m\u001b[0;34m)\u001b[0m\u001b[0;34m)\u001b[0m\u001b[0;34m\u001b[0m\u001b[0;34m\u001b[0m\u001b[0m\n",
      "\u001b[0;31mNameError\u001b[0m: name 'stderr' is not defined"
     ]
    }
   ],
   "source": [
    "import re\n",
    "\n",
    "system_energy_pattern = re.compile(r\".*energy[ ]*is[ ]([0-9.]+).*\")\n",
    "timing_pattern = re.compile(r\".*total[ ]*time[ ]*:[ ]*([0-9.]+)s.*total[ ]*time[ ]*evaluation[ ]*:[ ]*([0-9.]+)s.*eval_f[ ]*time[ ]*:[ ]*([0-9.]+)s.*eval_grad[ ]*time[ ]*:[ ]*([0-9.]+)s.*eval_hess[ ]*time[ ]*:[ ]*([0-9.]+)s.*\", re.MULTILINE | re.DOTALL)\n",
    "for match in timing_pattern.finditer(str(stderr)):\n",
    "    print(\"Total time: \",match.group(1))\n",
    "    print(\"Total time evaluation: \",match.group(2))\n",
    "    print(\"eval_f time: \", match.group(3))\n",
    "    print(\"eval_grad time: \",match.group(4))\n",
    "    print(\"eval_hessian time: \",match.group(5))"
   ]
  },
  {
   "cell_type": "code",
   "execution_count": 8,
   "id": "48d752ae-20ed-476b-9a6e-9eeb5d9a370a",
   "metadata": {},
   "outputs": [
    {
     "name": "stdout",
     "output_type": "stream",
     "text": [
      "gauss_newton\n",
      "grad_desc\n",
      "lbfgs_m20\n",
      "newt_methods\n"
     ]
    }
   ],
   "source": [
    "for cmd_entry in cmds:\n",
    "    print(cmd_entry[\"name\"])"
   ]
  },
  {
   "cell_type": "code",
   "execution_count": 22,
   "id": "d7bde0bc-f703-49c3-9969-46274b30b418",
   "metadata": {},
   "outputs": [],
   "source": [
    "results = {\n",
    "            \"Spring without length\": {},\n",
    "            \"Spring with length\":    {}\n",
    "}"
   ]
  },
  {
   "cell_type": "markdown",
   "id": "df2fd56e-93b3-45bf-914d-1533a0929c72",
   "metadata": {},
   "source": [
    "### Regex match group to get numbers\n",
    "\n",
    "group(1) = Total time<br>\n",
    "group(2) = Total time evaluation<br>\n",
    "group(3) = eval_f time<br>\n",
    "group(4) = eval_grad time <br>\n",
    "group(5) = eval_hessian time"
   ]
  },
  {
   "cell_type": "code",
   "execution_count": 38,
   "id": "94f49c6b-23cd-4582-af06-a0408629355a",
   "metadata": {},
   "outputs": [],
   "source": [
    "from subprocess import PIPE, Popen\n",
    "\n",
    "spring_type = \"Spring without length\"\n",
    "for cmd_entry in cmds[2:3]:\n",
    "    results[spring_type][cmd_entry[\"name\"]] = {\n",
    "        \"Total time\" : [],\n",
    "        \"Total time evaluation\" : [],\n",
    "        \"eval_f time\" : [],\n",
    "        \"eval_grad time\" : [],\n",
    "        \"eval_hessian time\" : [],\n",
    "        \"Initial MassSpring system energy\" : [],\n",
    "        \"Objective Function Value\" : [],\n",
    "        \"||g||^2\" : []\n",
    "    }\n",
    "    for size in dimensions:\n",
    "        cmd = create_cmd(cmd_entry,size)\n",
    "        p = Popen(\"./\"+cmd, shell=True, stdout=PIPE, stderr=PIPE)\n",
    "        stdout, stderr = p.communicate()\n",
    "        system_energy_pattern = re.compile(r\".*energy[ ]*is[ ](-?[\\d.]+(?:e[+-]?\\d+)?).*obj[ ]*=[ ]*(-?[\\d.]+(?:e[+-]?\\d+)?)[ ]*\\|\\|g\\|\\|\\^2[ ]*=[ ]*(-?[\\d.]+(?:e[+-]?\\d+)?).*\")\n",
    "        for match in system_energy_pattern.finditer(str(stdout)):\n",
    "            results[spring_type][cmd_entry[\"name\"]][\"Initial MassSpring system energy\"].append((size,match.group(1)))\n",
    "            results[spring_type][cmd_entry[\"name\"]][\"Objective Function Value\"].append((size,match.group(2)))\n",
    "            results[spring_type][cmd_entry[\"name\"]][\"||g||^2\"].append((size,match.group(3)))\n",
    "\n",
    "        \n",
    "        #timing_pattern = re.compile(r\".*total[ ]*time[ ]*:[ ]*([0-9.]+)s.*total[ ]*time[ ]*evaluation[ ]*:[ ]*([0-9.]+|-?[\\d.]+(?:e[-+]?\\d+)?)s.*eval_f[ ]*time[ ]*:[ ]*([0-9.]+)s.*eval_grad[ ]*time[ ]*:[ ]*([0-9.]+)s.*eval_hess[ ]*time[ ]*:[ ]*([0-9.]+)s.*\", re.MULTILINE | re.DOTALL)\n",
    "        timing_pattern = re.compile(r\".*total[ ]*time[ ]*:[ ]*(-?[\\d.]+(?:e[-+]?\\d+)?)s.*total[ ]*time[ ]*evaluation[ ]*:[ ]*(-?[\\d.]+(?:e[-+]?\\d+)?)s.*eval_f[ ]*time[ ]*:[ ]*(-?[\\d.]+(?:e[-+]?\\d+)?)s.*eval_grad[ ]*time[ ]*:[ ]*(-?[\\d.]+(?:e[-+]?\\d+)?)s.*eval_hess[ ]*time[ ]*:[ ]*(-?[\\d.]+(?:e[-+]?\\d+)?)s.*\", re.MULTILINE | re.DOTALL)\n",
    "        #print(cmd)\n",
    "        #print(stderr)\n",
    "        #print(stdout)\n",
    "        for match in timing_pattern.finditer(str(stderr)):\n",
    "            results[spring_type][cmd_entry[\"name\"]][\"Total time\"].append((size,match.group(1)))\n",
    "            results[spring_type][cmd_entry[\"name\"]][\"Total time evaluation\"].append((size,match.group(2)))\n",
    "            results[spring_type][cmd_entry[\"name\"]][\"eval_f time\"].append((size,match.group(3)))\n",
    "            results[spring_type][cmd_entry[\"name\"]][\"eval_grad time\"].append((size,match.group(4)))\n",
    "            results[spring_type][cmd_entry[\"name\"]][\"eval_hessian time\"].append((size,match.group(5)))\n",
    "\n",
    "\n",
    "    "
   ]
  },
  {
   "cell_type": "code",
   "execution_count": 39,
   "id": "7626b542-1bab-4b98-8950-41254cdbaeae",
   "metadata": {},
   "outputs": [
    {
     "data": {
      "text/plain": [
       "{'Spring without length': {'lbfgs_m20': {'Total time': [(5, '0.000556'),\n",
       "    (10, '0.000921'),\n",
       "    (20, '0.001993')],\n",
       "   'Total time evaluation': [(5, '5e-06'), (10, '3.6e-05'), (20, '0.000109')],\n",
       "   'eval_f time': [(5, '0.00000'), (10, '0.00002'), (20, '0.00006')],\n",
       "   'eval_grad time': [(5, '0.00000'), (10, '0.00002'), (20, '0.00005')],\n",
       "   'eval_hessian time': [(5, '0.00000'), (10, '0.00000'), (20, '0.00000')],\n",
       "   'Initial MassSpring system energy': [(5, '1.634e+07'),\n",
       "    (10, '2.542e+07'),\n",
       "    (20, '1.29769e+08')],\n",
       "   'Objective Function Value': [(5, '1.634e+07'),\n",
       "    (10, '2.542e+07'),\n",
       "    (20, '1.29769e+08')],\n",
       "   '||g||^2': [(5, '3.26663e+12'), (10, '5.07862e+12'), (20, '2.5932e+13')]}},\n",
       " 'Spring with length': {}}"
      ]
     },
     "execution_count": 39,
     "metadata": {},
     "output_type": "execute_result"
    }
   ],
   "source": [
    "results"
   ]
  },
  {
   "cell_type": "code",
   "execution_count": null,
   "id": "740ae334-da66-4021-9319-e2a6bd9da70e",
   "metadata": {},
   "outputs": [],
   "source": []
  },
  {
   "cell_type": "code",
   "execution_count": null,
   "id": "7a192dc1-f9e8-4461-ae83-6af8a74eee15",
   "metadata": {},
   "outputs": [],
   "source": []
  }
 ],
 "metadata": {
  "kernelspec": {
   "display_name": "Python 3 (ipykernel)",
   "language": "python",
   "name": "python3"
  },
  "language_info": {
   "codemirror_mode": {
    "name": "ipython",
    "version": 3
   },
   "file_extension": ".py",
   "mimetype": "text/x-python",
   "name": "python",
   "nbconvert_exporter": "python",
   "pygments_lexer": "ipython3",
   "version": "3.9.7"
  }
 },
 "nbformat": 4,
 "nbformat_minor": 5
}
