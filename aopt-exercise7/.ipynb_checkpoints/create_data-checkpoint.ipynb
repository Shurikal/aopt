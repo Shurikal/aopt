{
 "cells": [
  {
   "cell_type": "code",
   "execution_count": 1,
   "id": "4ba824aa-c086-460a-af36-681023e01aa1",
   "metadata": {},
   "outputs": [],
   "source": [
    "path = \"cmake-build-debug/Build/bin/\"\n",
    "\n",
    "max_iters = 1000000\n",
    "\n",
    "dimensions = [5,10,20]\n",
    "\n",
    "cmds = [{ \n",
    "            \"name\": \"gauss_newton\",\n",
    "            \"cmd\" : \"GaussNewton {function_index} {x} {y} {max_iter} {filename}\"\n",
    "        },\n",
    "        {\n",
    "            \"name\": \"grad_desc\",\n",
    "            \"cmd\" : \"GradientDescent {function_index} 1 {x} {y} {max_iter} {filename}\"\n",
    "        },\n",
    "        {\n",
    "            \"name\": \"lbfgs_m20\",\n",
    "            \"cmd\" : \"LBFGS {function_index} {x} {y} {m} {max_iter} {filename}\",\n",
    "            \"m\"   : 20\n",
    "            \n",
    "        },\n",
    "        {\n",
    "            \"name\": \"newt_methods\",\n",
    "            \"cmd\" : \"NewtonMethods {method} {function_index} {x} {y} {max_iter} {filename}\",\n",
    "            \"method\" : 0,\n",
    "            \"function_index\" : 2\n",
    "        }\n",
    "        ]"
   ]
  },
  {
   "cell_type": "code",
   "execution_count": 2,
   "id": "1cad5de8-86f1-4fb2-b5e5-aea01a6c6edc",
   "metadata": {},
   "outputs": [
    {
     "data": {
      "text/plain": [
       "'GradientDescent 1 1 1 1 20 asdf'"
      ]
     },
     "execution_count": 2,
     "metadata": {},
     "output_type": "execute_result"
    }
   ],
   "source": [
    "cmds[1][\"cmd\"].format(method=2,function_index=1,x=1,y=1,max_iter=20,filename=\"asdf\")"
   ]
  },
  {
   "cell_type": "code",
   "execution_count": 3,
   "id": "a0f473ad-a8cb-4adf-a936-4fd23a9a31d1",
   "metadata": {},
   "outputs": [],
   "source": [
    "def create_cmd(cmd_entry,size,function_index=0,max_iter=1000000):\n",
    "    spring = \"wol\" if function_index==0 else \"wl\"\n",
    "    m = 0\n",
    "    method = 0\n",
    "    if \"m\" in cmd_entry:\n",
    "        m = cmd_entry[\"m\"]\n",
    "    if \"method\" in cmd_entry:\n",
    "        method = cmd_entry[\"method\"]\n",
    "    if \"function_index\" in cmd_entry and function_index == 1:\n",
    "        function_index = cmd_entry[\"function_index\"]\n",
    "        spring = \"wl_pHess\"\n",
    "    \n",
    "    return cmd_entry[\"cmd\"].format(function_index=function_index,\n",
    "                                   x=size,\n",
    "                                   y=size,\n",
    "                                   max_iter=max_iter,\n",
    "                                   filename=cmd_entry[\"name\"]+\"_\"+spring+\"_\"+str(size)+\"x\"+str(size),\n",
    "                                   m=m,\n",
    "                                   method=method)"
   ]
  },
  {
   "cell_type": "code",
   "execution_count": 4,
   "id": "eb48fb48-6b18-44c4-b1ae-2c32e1f2d8d4",
   "metadata": {},
   "outputs": [
    {
     "data": {
      "text/plain": [
       "'LBFGS 1 5 5 20 1000000 lbfgs_m20_wl_5x5'"
      ]
     },
     "execution_count": 4,
     "metadata": {},
     "output_type": "execute_result"
    }
   ],
   "source": [
    "create_cmd(cmds[2],5,1)"
   ]
  },
  {
   "cell_type": "markdown",
   "id": "7a28a93b-186c-4ced-85cc-aa444bbcdc94",
   "metadata": {},
   "source": [
    "# Different commands\n",
    "\n",
    "❯ ./GaussNewton\n",
    "Usage: input should be 'function index(0: f without length, 1: f with length), number of grid in x, number of grid in y, max iteration, filename', e.g. ./GaussNewton 1 20 20 10000 /usr/spring\n",
    "\n",
    "❯ ./GradientDescent\n",
    "Usage: input should be 'function index(0: f without length, 1: f with length),constrained spring scenario  (1 or 2 )number of grid in x, number of grid in y, max iteration, filename', e.g. ./GradientDescent 0 2 2 10000 /usr/spring\n",
    "\n",
    "❯ ./LBFGS\n",
    "Usage: input should be 'function index(0: f without length, 1: f with length), number of grid in x, number of grid in y, m, max iteration, filename', e.g. ./LBFGS 1 20 20 10 10000 /usr/spring\n",
    "\n",
    "❯ ./NewtonMethods\n",
    "Usage: input should be 'newton's method(0: standard newton, 1: projected hessian),function index(0: f without length, 1: f with length, 2: f with length with positive local hessian), number of grid in x, number of grid in y, max iteration, filename', e.g. ./NewtonMethods 0 0 2 2 10000 /usr/spring"
   ]
  },
  {
   "cell_type": "code",
   "execution_count": 5,
   "id": "fc0fdc51-b91f-4eda-9b39-e1254fb589ea",
   "metadata": {},
   "outputs": [
    {
     "name": "stdout",
     "output_type": "stream",
     "text": [
      "/Users/chris/Documents/GitHub/aopt/aopt-exercise7\n"
     ]
    }
   ],
   "source": [
    "import os\n",
    "print(os.getcwd())"
   ]
  },
  {
   "cell_type": "code",
   "execution_count": 6,
   "id": "2b78ea08-19b0-444b-95f9-0df7faac91dc",
   "metadata": {},
   "outputs": [],
   "source": [
    "os.chdir(path)\n"
   ]
  },
  {
   "cell_type": "code",
   "execution_count": 7,
   "id": "f0f29053-01c4-411b-965d-ab442e40c139",
   "metadata": {},
   "outputs": [
    {
     "name": "stdout",
     "output_type": "stream",
     "text": [
      "/Users/chris/Documents/GitHub/aopt/aopt-exercise7/cmake-build-debug/Build/bin\n"
     ]
    }
   ],
   "source": [
    "print(os.getcwd())"
   ]
  },
  {
   "cell_type": "code",
   "execution_count": 9,
   "id": "d7bde0bc-f703-49c3-9969-46274b30b418",
   "metadata": {},
   "outputs": [],
   "source": [
    "results = {\n",
    "            \"Spring without length\": {},\n",
    "            \"Spring with length\":    {}\n",
    "}"
   ]
  },
  {
   "cell_type": "markdown",
   "id": "df2fd56e-93b3-45bf-914d-1533a0929c72",
   "metadata": {},
   "source": [
    "### Regex match group to get numbers\n",
    "\n",
    "group(1) = Total time<br>\n",
    "group(2) = Total time evaluation<br>\n",
    "group(3) = eval_f time<br>\n",
    "group(4) = eval_grad time <br>\n",
    "group(5) = eval_hessian time"
   ]
  },
  {
   "cell_type": "code",
   "execution_count": 13,
   "id": "94f49c6b-23cd-4582-af06-a0408629355a",
   "metadata": {},
   "outputs": [],
   "source": [
    "import re\n",
    "from subprocess import PIPE, Popen\n",
    "\n",
    "spring_type = \"Spring without length\"\n",
    "for cmd_entry in cmds[2:3]:\n",
    "    results[spring_type][cmd_entry[\"name\"]] = {\n",
    "        \"Total time\" : [],\n",
    "        \"Total time evaluation\" : [],\n",
    "        \"eval_f time\" : [],\n",
    "        \"eval_grad time\" : [],\n",
    "        \"eval_hessian time\" : [],\n",
    "        \"Initial MassSpring system energy\" : [],\n",
    "        \"Objective Function Value\" : [],\n",
    "        \"||g||^2\" : []\n",
    "    }\n",
    "    for size in dimensions:\n",
    "        cmd = create_cmd(cmd_entry,size)\n",
    "        p = Popen(\"./\"+cmd, shell=True, stdout=PIPE, stderr=PIPE)\n",
    "        stdout, stderr = p.communicate()\n",
    "        system_energy_pattern = re.compile(r\".*energy[ ]*is[ ](-?[\\d.]+(?:e[+-]?\\d+)?).*obj[ ]*=[ ]*(-?[\\d.]+(?:e[+-]?\\d+)?)[ ]*\\|\\|g\\|\\|\\^2[ ]*=[ ]*(-?[\\d.]+(?:e[+-]?\\d+)?).*\")\n",
    "        for match in system_energy_pattern.finditer(str(stdout)):\n",
    "            results[spring_type][cmd_entry[\"name\"]][\"Initial MassSpring system energy\"].append((size,match.group(1)))\n",
    "            results[spring_type][cmd_entry[\"name\"]][\"Objective Function Value\"].append((size,match.group(2)))\n",
    "            results[spring_type][cmd_entry[\"name\"]][\"||g||^2\"].append((size,match.group(3)))\n",
    "\n",
    "        timing_pattern = re.compile(r\".*total[ ]*time[ ]*:[ ]*(-?[\\d.]+(?:e[-+]?\\d+)?)s.*total[ ]*time[ ]*evaluation[ ]*:[ ]*(-?[\\d.]+(?:e[-+]?\\d+)?)s.*eval_f[ ]*time[ ]*:[ ]*(-?[\\d.]+(?:e[-+]?\\d+)?)s.*eval_grad[ ]*time[ ]*:[ ]*(-?[\\d.]+(?:e[-+]?\\d+)?)s.*eval_hess[ ]*time[ ]*:[ ]*(-?[\\d.]+(?:e[-+]?\\d+)?)s.*\", re.MULTILINE | re.DOTALL)\n",
    "        #print(cmd)\n",
    "        #print(stderr)\n",
    "        #print(stdout)\n",
    "        for match in timing_pattern.finditer(str(stderr)):\n",
    "            results[spring_type][cmd_entry[\"name\"]][\"Total time\"].append((size,match.group(1)))\n",
    "            results[spring_type][cmd_entry[\"name\"]][\"Total time evaluation\"].append((size,match.group(2)))\n",
    "            results[spring_type][cmd_entry[\"name\"]][\"eval_f time\"].append((size,match.group(3)))\n",
    "            results[spring_type][cmd_entry[\"name\"]][\"eval_grad time\"].append((size,match.group(4)))\n",
    "            results[spring_type][cmd_entry[\"name\"]][\"eval_hessian time\"].append((size,match.group(5)))\n",
    "\n",
    "\n",
    "    "
   ]
  },
  {
   "cell_type": "code",
   "execution_count": 14,
   "id": "7626b542-1bab-4b98-8950-41254cdbaeae",
   "metadata": {},
   "outputs": [
    {
     "data": {
      "text/plain": [
       "{'Spring without length': {'lbfgs_m20': {'Total time': [(5, '0.000655'),\n",
       "    (10, '0.000881'),\n",
       "    (20, '0.001091')],\n",
       "   'Total time evaluation': [(5, '1.2e-05'), (10, '3e-05'), (20, '0.000114')],\n",
       "   'eval_f time': [(5, '0.00001'), (10, '0.00002'), (20, '0.00006')],\n",
       "   'eval_grad time': [(5, '0.00001'), (10, '0.00001'), (20, '0.00005')],\n",
       "   'eval_hessian time': [(5, '0.00000'), (10, '0.00000'), (20, '0.00000')],\n",
       "   'Initial MassSpring system energy': [(5, '1.634e+07'),\n",
       "    (10, '2.542e+07'),\n",
       "    (20, '1.29769e+08')],\n",
       "   'Objective Function Value': [(5, '1.634e+07'),\n",
       "    (10, '2.542e+07'),\n",
       "    (20, '1.29769e+08')],\n",
       "   '||g||^2': [(5, '3.26663e+12'), (10, '5.07862e+12'), (20, '2.5932e+13')]}},\n",
       " 'Spring with length': {}}"
      ]
     },
     "execution_count": 14,
     "metadata": {},
     "output_type": "execute_result"
    }
   ],
   "source": [
    "results"
   ]
  },
  {
   "cell_type": "code",
   "execution_count": null,
   "id": "740ae334-da66-4021-9319-e2a6bd9da70e",
   "metadata": {},
   "outputs": [],
   "source": []
  },
  {
   "cell_type": "code",
   "execution_count": null,
   "id": "7a192dc1-f9e8-4461-ae83-6af8a74eee15",
   "metadata": {},
   "outputs": [],
   "source": []
  }
 ],
 "metadata": {
  "kernelspec": {
   "display_name": "Python 3 (ipykernel)",
   "language": "python",
   "name": "python3"
  },
  "language_info": {
   "codemirror_mode": {
    "name": "ipython",
    "version": 3
   },
   "file_extension": ".py",
   "mimetype": "text/x-python",
   "name": "python",
   "nbconvert_exporter": "python",
   "pygments_lexer": "ipython3",
   "version": "3.9.7"
  }
 },
 "nbformat": 4,
 "nbformat_minor": 5
}
