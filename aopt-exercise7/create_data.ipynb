{
 "cells": [
  {
   "cell_type": "code",
   "execution_count": 16,
   "id": "4ba824aa-c086-460a-af36-681023e01aa1",
   "metadata": {},
   "outputs": [],
   "source": [
    "path = \"cmake-build-debug/Build/bin/\"\n",
    "\n",
    "max_iters = 1000000\n",
    "\n",
    "dimensions = [5,6,7,8,9,10,12,15,20]\n",
    "\n",
    "cmds = [{ \n",
    "            \"name\": \"gauss_newton\",\n",
    "            \"cmd\" : \"GaussNewton {function_index} {x} {y} {max_iter} {filename}\"\n",
    "        },\n",
    "        {\n",
    "            \"name\": \"lbfgs_m3\",\n",
    "            \"cmd\" : \"LBFGS {function_index} {x} {y} {m} {max_iter} {filename}\",\n",
    "            \"m\"   : 3\n",
    "            \n",
    "        },\n",
    "        {\n",
    "            \"name\": \"newt_methods\",\n",
    "            \"cmd\" : \"NewtonMethods {method} {function_index} {x} {y} {max_iter} {filename}\",\n",
    "            \"method\" : 0,\n",
    "            \"function_index\" : 2\n",
    "        },\n",
    "        {\n",
    "            \"name\": \"grad_desc\",\n",
    "            \"cmd\" : \"GradientDescent {function_index} 1 {x} {y} {max_iter} {filename}\"\n",
    "        }\n",
    "        ]"
   ]
  },
  {
   "cell_type": "code",
   "execution_count": 17,
   "id": "1cad5de8-86f1-4fb2-b5e5-aea01a6c6edc",
   "metadata": {},
   "outputs": [
    {
     "data": {
      "text/plain": [
       "'LBFGS 1 1 1 20 20 asdf'"
      ]
     },
     "execution_count": 17,
     "metadata": {},
     "output_type": "execute_result"
    }
   ],
   "source": [
    "cmds[1][\"cmd\"].format(method=2,function_index=1,x=1,y=1,max_iter=20,filename=\"asdf\",m=20)"
   ]
  },
  {
   "cell_type": "code",
   "execution_count": 18,
   "id": "a0f473ad-a8cb-4adf-a936-4fd23a9a31d1",
   "metadata": {},
   "outputs": [],
   "source": [
    "def create_cmd(cmd_entry,dim,function_index=0,max_iter=1000000):\n",
    "    spring = \"wol\" if function_index==0 else \"wl\"\n",
    "    m = 0\n",
    "    method = 0\n",
    "    if \"m\" in cmd_entry:\n",
    "        m = cmd_entry[\"m\"]\n",
    "    if \"method\" in cmd_entry:\n",
    "        method = cmd_entry[\"method\"]\n",
    "    if \"function_index\" in cmd_entry and function_index == 1:\n",
    "        function_index = cmd_entry[\"function_index\"]\n",
    "        spring = \"wl_pHess\"\n",
    "    \n",
    "    return cmd_entry[\"cmd\"].format(function_index=function_index,\n",
    "                                   x=dim,\n",
    "                                   y=dim,\n",
    "                                   max_iter=max_iter,\n",
    "                                   filename=cmd_entry[\"name\"]+\"_\"+spring+\"_\"+str(dim)+\"x\"+str(dim),\n",
    "                                   m=m,\n",
    "                                   method=method)"
   ]
  },
  {
   "cell_type": "code",
   "execution_count": 19,
   "id": "eb48fb48-6b18-44c4-b1ae-2c32e1f2d8d4",
   "metadata": {},
   "outputs": [
    {
     "data": {
      "text/plain": [
       "'NewtonMethods 0 2 5 5 1000000 newt_methods_wl_pHess_5x5'"
      ]
     },
     "execution_count": 19,
     "metadata": {},
     "output_type": "execute_result"
    }
   ],
   "source": [
    "create_cmd(cmds[2],5,1)"
   ]
  },
  {
   "cell_type": "markdown",
   "id": "7a28a93b-186c-4ced-85cc-aa444bbcdc94",
   "metadata": {},
   "source": [
    "# Different commands\n",
    "\n",
    "❯ ./GaussNewton\n",
    "Usage: input should be 'function index(0: f without length, 1: f with length), number of grid in x, number of grid in y, max iteration, filename', e.g. ./GaussNewton 1 20 20 10000 /usr/spring\n",
    "\n",
    "❯ ./GradientDescent\n",
    "Usage: input should be 'function index(0: f without length, 1: f with length),constrained spring scenario  (1 or 2 )number of grid in x, number of grid in y, max iteration, filename', e.g. ./GradientDescent 0 2 2 10000 /usr/spring\n",
    "\n",
    "❯ ./LBFGS\n",
    "Usage: input should be 'function index(0: f without length, 1: f with length), number of grid in x, number of grid in y, m, max iteration, filename', e.g. ./LBFGS 1 20 20 10 10000 /usr/spring\n",
    "\n",
    "❯ ./NewtonMethods\n",
    "Usage: input should be 'newton's method(0: standard newton, 1: projected hessian),function index(0: f without length, 1: f with length, 2: f with length with positive local hessian), number of grid in x, number of grid in y, max iteration, filename', e.g. ./NewtonMethods 0 0 2 2 10000 /usr/spring"
   ]
  },
  {
   "cell_type": "code",
   "execution_count": 20,
   "id": "fc0fdc51-b91f-4eda-9b39-e1254fb589ea",
   "metadata": {},
   "outputs": [
    {
     "name": "stdout",
     "output_type": "stream",
     "text": [
      "/Users/chris/Documents/GitHub/aopt/aopt-exercise7/cmake-build-debug/Build/bin\n"
     ]
    }
   ],
   "source": [
    "import os\n",
    "print(os.getcwd())"
   ]
  },
  {
   "cell_type": "code",
   "execution_count": 21,
   "id": "2b78ea08-19b0-444b-95f9-0df7faac91dc",
   "metadata": {},
   "outputs": [
    {
     "ename": "FileNotFoundError",
     "evalue": "[Errno 2] No such file or directory: 'cmake-build-debug/Build/bin/'",
     "output_type": "error",
     "traceback": [
      "\u001b[0;31m---------------------------------------------------------------------------\u001b[0m",
      "\u001b[0;31mFileNotFoundError\u001b[0m                         Traceback (most recent call last)",
      "\u001b[0;32m/var/folders/cw/ywlpl1tx6m5dyzys99jgnjph0000gn/T/ipykernel_81641/1205843069.py\u001b[0m in \u001b[0;36m<module>\u001b[0;34m\u001b[0m\n\u001b[0;32m----> 1\u001b[0;31m \u001b[0mos\u001b[0m\u001b[0;34m.\u001b[0m\u001b[0mchdir\u001b[0m\u001b[0;34m(\u001b[0m\u001b[0mpath\u001b[0m\u001b[0;34m)\u001b[0m\u001b[0;34m\u001b[0m\u001b[0;34m\u001b[0m\u001b[0m\n\u001b[0m",
      "\u001b[0;31mFileNotFoundError\u001b[0m: [Errno 2] No such file or directory: 'cmake-build-debug/Build/bin/'"
     ]
    }
   ],
   "source": [
    "os.chdir(path)\n"
   ]
  },
  {
   "cell_type": "code",
   "execution_count": 22,
   "id": "f0f29053-01c4-411b-965d-ab442e40c139",
   "metadata": {},
   "outputs": [
    {
     "name": "stdout",
     "output_type": "stream",
     "text": [
      "/Users/chris/Documents/GitHub/aopt/aopt-exercise7/cmake-build-debug/Build/bin\n"
     ]
    }
   ],
   "source": [
    "print(os.getcwd())"
   ]
  },
  {
   "cell_type": "code",
   "execution_count": 23,
   "id": "d7bde0bc-f703-49c3-9969-46274b30b418",
   "metadata": {},
   "outputs": [],
   "source": [
    "results = {\n",
    "            \"Spring without length\": {},\n",
    "            \"Spring with length\":    {}\n",
    "}"
   ]
  },
  {
   "cell_type": "markdown",
   "id": "df2fd56e-93b3-45bf-914d-1533a0929c72",
   "metadata": {},
   "source": [
    "### Regex match group to get numbers\n",
    "\n",
    "group(1) = Total time<br>\n",
    "group(2) = Total time evaluation<br>\n",
    "group(3) = eval_f time<br>\n",
    "group(4) = eval_grad time <br>\n",
    "group(5) = eval_hessian time"
   ]
  },
  {
   "cell_type": "code",
   "execution_count": 24,
   "id": "a5d6e81e-5561-40e9-98cd-5944ea2d7887",
   "metadata": {},
   "outputs": [],
   "source": [
    "import re\n",
    "from subprocess import PIPE, Popen\n",
    "\n",
    "\n",
    "for dim in dimensions:\n",
    "    spring_type = \"Spring without length\"\n",
    "    \n",
    "    cache = {}\n",
    "    \n",
    "    for cmd_entry in cmds[1:4]:\n",
    "        cache[cmd_entry[\"name\"]] = {\n",
    "            \"Command run\" : None,\n",
    "            \"Total time\" : None,\n",
    "            \"Total time evaluation\" : None,\n",
    "            \"eval_f time\" : None,\n",
    "            \"eval_grad time\" : None,\n",
    "            \"eval_hessian time\" : None,\n",
    "            \"Initial MassSpring system energy\" : None,\n",
    "            \"Objective Function Value\" : None,\n",
    "        }\n",
    "\n",
    "        #for size in dimensions:\n",
    "        cmd = create_cmd(cmd_entry,dim)\n",
    "        cache[cmd_entry[\"name\"]][\"Command run\"]= cmd\n",
    "        p = Popen(\"./\"+cmd, shell=True, stdout=PIPE, stderr=PIPE)\n",
    "        stdout, stderr = p.communicate()\n",
    "        system_energy_pattern = re.compile(r\".*energy[ ]*is[ ](-?[\\d.]+(?:e[+-]?\\d+)?).*obj[ ]*=[ ]*(-?[\\d.]+(?:e[+-]?\\d+)?).*\")\n",
    "        for match in system_energy_pattern.finditer(str(stdout)):\n",
    "            cache[cmd_entry[\"name\"]][\"Initial MassSpring system energy\"]=match.group(1)\n",
    "            cache[cmd_entry[\"name\"]][\"Objective Function Value\"]= match.group(2)\n",
    "\n",
    "        timing_pattern = re.compile(r\".*total[ ]*time[ ]*:[ ]*(-?[\\d.]+(?:e[-+]?\\d+)?)s.*total[ ]*time[ ]*evaluation[ ]*:[ ]*(-?[\\d.]+(?:e[-+]?\\d+)?)s.*eval_f[ ]*time[ ]*:[ ]*(-?[\\d.]+(?:e[-+]?\\d+)?)s.*eval_grad[ ]*time[ ]*:[ ]*(-?[\\d.]+(?:e[-+]?\\d+)?)s.*eval_hess[ ]*time[ ]*:[ ]*(-?[\\d.]+(?:e[-+]?\\d+)?)s.*\", re.MULTILINE | re.DOTALL)\n",
    "        #print(cmd)\n",
    "        #print(stderr)\n",
    "        #print(stdout)\n",
    "        for match in timing_pattern.finditer(str(stderr)):\n",
    "            cache[cmd_entry[\"name\"]][\"Total time\"]= match.group(1)\n",
    "            cache[cmd_entry[\"name\"]][\"Total time evaluation\"]=match.group(2)\n",
    "            cache[cmd_entry[\"name\"]][\"eval_f time\"]=match.group(3)\n",
    "            cache[cmd_entry[\"name\"]][\"eval_grad time\"]=match.group(4)\n",
    "            cache[cmd_entry[\"name\"]][\"eval_hessian time\"]=match.group(5)\n",
    "    results[spring_type][str(dim)] = cache\n",
    "\n",
    "    "
   ]
  },
  {
   "cell_type": "code",
   "execution_count": null,
   "id": "62d0f5ba-c745-4aeb-8b1d-cb09cdc502d4",
   "metadata": {},
   "outputs": [],
   "source": []
  },
  {
   "cell_type": "markdown",
   "id": "bf4f256b-c398-42e3-ac7e-29a9ab07c671",
   "metadata": {},
   "source": [
    "### Compare Results"
   ]
  },
  {
   "cell_type": "code",
   "execution_count": 25,
   "id": "740ae334-da66-4021-9319-e2a6bd9da70e",
   "metadata": {},
   "outputs": [
    {
     "data": {
      "text/html": [
       "<div>\n",
       "<style scoped>\n",
       "    .dataframe tbody tr th:only-of-type {\n",
       "        vertical-align: middle;\n",
       "    }\n",
       "\n",
       "    .dataframe tbody tr th {\n",
       "        vertical-align: top;\n",
       "    }\n",
       "\n",
       "    .dataframe thead th {\n",
       "        text-align: right;\n",
       "    }\n",
       "</style>\n",
       "<table border=\"1\" class=\"dataframe\">\n",
       "  <thead>\n",
       "    <tr style=\"text-align: right;\">\n",
       "      <th></th>\n",
       "      <th>lbfgs_m3</th>\n",
       "      <th>newt_methods</th>\n",
       "      <th>grad_desc</th>\n",
       "    </tr>\n",
       "  </thead>\n",
       "  <tbody>\n",
       "    <tr>\n",
       "      <th>Command run</th>\n",
       "      <td>LBFGS 0 10 10 3 1000000 lbfgs_m3_wol_10x10</td>\n",
       "      <td>NewtonMethods 0 0 10 10 1000000 newt_methods_w...</td>\n",
       "      <td>GradientDescent 0 1 10 10 1000000 grad_desc_wo...</td>\n",
       "    </tr>\n",
       "    <tr>\n",
       "      <th>Total time</th>\n",
       "      <td>6.47284</td>\n",
       "      <td>0.000745</td>\n",
       "      <td>2.7807</td>\n",
       "    </tr>\n",
       "    <tr>\n",
       "      <th>Total time evaluation</th>\n",
       "      <td>4.2722</td>\n",
       "      <td>0.000225</td>\n",
       "      <td>1.88774</td>\n",
       "    </tr>\n",
       "    <tr>\n",
       "      <th>eval_f time</th>\n",
       "      <td>3.97242</td>\n",
       "      <td>0.00001</td>\n",
       "      <td>1.74188</td>\n",
       "    </tr>\n",
       "    <tr>\n",
       "      <th>eval_grad time</th>\n",
       "      <td>0.29978</td>\n",
       "      <td>0.00001</td>\n",
       "      <td>0.14585</td>\n",
       "    </tr>\n",
       "    <tr>\n",
       "      <th>eval_hessian time</th>\n",
       "      <td>0.00000</td>\n",
       "      <td>0.00021</td>\n",
       "      <td>0.00000</td>\n",
       "    </tr>\n",
       "    <tr>\n",
       "      <th>Initial MassSpring system energy</th>\n",
       "      <td>2.542e+07</td>\n",
       "      <td>2.542e+07</td>\n",
       "      <td>2.542e+07</td>\n",
       "    </tr>\n",
       "    <tr>\n",
       "      <th>Objective Function Value</th>\n",
       "      <td>141.273</td>\n",
       "      <td>141.273</td>\n",
       "      <td>141.273</td>\n",
       "    </tr>\n",
       "  </tbody>\n",
       "</table>\n",
       "</div>"
      ],
      "text/plain": [
       "                                                                    lbfgs_m3  \\\n",
       "Command run                       LBFGS 0 10 10 3 1000000 lbfgs_m3_wol_10x10   \n",
       "Total time                                                           6.47284   \n",
       "Total time evaluation                                                 4.2722   \n",
       "eval_f time                                                          3.97242   \n",
       "eval_grad time                                                       0.29978   \n",
       "eval_hessian time                                                    0.00000   \n",
       "Initial MassSpring system energy                                   2.542e+07   \n",
       "Objective Function Value                                             141.273   \n",
       "\n",
       "                                                                       newt_methods  \\\n",
       "Command run                       NewtonMethods 0 0 10 10 1000000 newt_methods_w...   \n",
       "Total time                                                                 0.000745   \n",
       "Total time evaluation                                                      0.000225   \n",
       "eval_f time                                                                 0.00001   \n",
       "eval_grad time                                                              0.00001   \n",
       "eval_hessian time                                                           0.00021   \n",
       "Initial MassSpring system energy                                          2.542e+07   \n",
       "Objective Function Value                                                    141.273   \n",
       "\n",
       "                                                                          grad_desc  \n",
       "Command run                       GradientDescent 0 1 10 10 1000000 grad_desc_wo...  \n",
       "Total time                                                                   2.7807  \n",
       "Total time evaluation                                                       1.88774  \n",
       "eval_f time                                                                 1.74188  \n",
       "eval_grad time                                                              0.14585  \n",
       "eval_hessian time                                                           0.00000  \n",
       "Initial MassSpring system energy                                          2.542e+07  \n",
       "Objective Function Value                                                    141.273  "
      ]
     },
     "execution_count": 25,
     "metadata": {},
     "output_type": "execute_result"
    }
   ],
   "source": [
    "import pandas as pd\n",
    "pd.DataFrame(data=results[\"Spring without length\"][\"10\"])\n"
   ]
  },
  {
   "cell_type": "code",
   "execution_count": 26,
   "id": "a761443c-7354-4496-9d7f-952c7a8f89a2",
   "metadata": {},
   "outputs": [],
   "source": [
    "def is_float(value):\n",
    "    try:\n",
    "        float(value)\n",
    "        return True\n",
    "    except:\n",
    "        return False\n"
   ]
  },
  {
   "cell_type": "code",
   "execution_count": 27,
   "id": "c39a1385-bc74-4cdd-90d5-1bccd1b39ecf",
   "metadata": {},
   "outputs": [],
   "source": [
    "dic = {}\n",
    "spring_type = \"Spring without length\"\n",
    "\n",
    "for column in results[\"Spring without length\"][\"5\"]:\n",
    "\n",
    "    dic[column]= {\n",
    "    \"Command run\" : [],\n",
    "    \"Total time\" : [],\n",
    "    \"Total time evaluation\" : [],\n",
    "    \"eval_f time\" : [],\n",
    "    \"eval_grad time\" : [],\n",
    "    \"eval_hessian time\" : [],\n",
    "    \"Initial MassSpring system energy\" : [],\n",
    "    \"Objective Function Value\" : []\n",
    "    }\n",
    "    \n",
    "    for dim in dimensions:\n",
    "        for key in dic[column]:\n",
    "            value = results[spring_type][str(dim)][column][key]\n",
    "            if is_float(value):\n",
    "                dic[column][key].append(float(value))\n",
    "            else:\n",
    "                dic[column][key].append(value)\n"
   ]
  },
  {
   "cell_type": "code",
   "execution_count": 28,
   "id": "5d0d6737-80cd-4886-b1a1-dbf0421ebc72",
   "metadata": {},
   "outputs": [
    {
     "data": {
      "text/plain": [
       "{'lbfgs_m3': {'Command run': ['LBFGS 0 5 5 3 1000000 lbfgs_m3_wol_5x5',\n",
       "   'LBFGS 0 6 6 3 1000000 lbfgs_m3_wol_6x6',\n",
       "   'LBFGS 0 7 7 3 1000000 lbfgs_m3_wol_7x7',\n",
       "   'LBFGS 0 8 8 3 1000000 lbfgs_m3_wol_8x8',\n",
       "   'LBFGS 0 9 9 3 1000000 lbfgs_m3_wol_9x9',\n",
       "   'LBFGS 0 10 10 3 1000000 lbfgs_m3_wol_10x10',\n",
       "   'LBFGS 0 12 12 3 1000000 lbfgs_m3_wol_12x12',\n",
       "   'LBFGS 0 15 15 3 1000000 lbfgs_m3_wol_15x15',\n",
       "   'LBFGS 0 20 20 3 1000000 lbfgs_m3_wol_20x20'],\n",
       "  'Total time': [1.35194,\n",
       "   2.29569,\n",
       "   2.34105,\n",
       "   2.88813,\n",
       "   3.88466,\n",
       "   6.47284,\n",
       "   7.09771,\n",
       "   9.91668,\n",
       "   86.4549],\n",
       "  'Total time evaluation': [0.012556,\n",
       "   0.091534,\n",
       "   0.074505,\n",
       "   0.360036,\n",
       "   2.99277,\n",
       "   4.2722,\n",
       "   3.82494,\n",
       "   6.92392,\n",
       "   77.2021],\n",
       "  'eval_f time': [0.00561,\n",
       "   0.01308,\n",
       "   0.00888,\n",
       "   0.22844,\n",
       "   2.84653,\n",
       "   3.97242,\n",
       "   3.50058,\n",
       "   6.39785,\n",
       "   72.77931],\n",
       "  'eval_grad time': [0.00694,\n",
       "   0.07845,\n",
       "   0.06563,\n",
       "   0.1316,\n",
       "   0.14624,\n",
       "   0.29978,\n",
       "   0.32436,\n",
       "   0.52607,\n",
       "   4.42279],\n",
       "  'eval_hessian time': [0.0, 0.0, 0.0, 0.0, 0.0, 0.0, 0.0, 0.0, 0.0],\n",
       "  'Initial MassSpring system energy': [16340000.0,\n",
       "   23955900.0,\n",
       "   22714500.0,\n",
       "   27895300.0,\n",
       "   21715700.0,\n",
       "   25420000.0,\n",
       "   40147200.0,\n",
       "   71483900.0,\n",
       "   129769000.0],\n",
       "  'Objective Function Value': [44.1344,\n",
       "   59.6688,\n",
       "   77.2023,\n",
       "   96.6776,\n",
       "   118.048,\n",
       "   141.273,\n",
       "   193.156,\n",
       "   284.159,\n",
       "   469.605]},\n",
       " 'newt_methods': {'Command run': ['NewtonMethods 0 0 5 5 1000000 newt_methods_wol_5x5',\n",
       "   'NewtonMethods 0 0 6 6 1000000 newt_methods_wol_6x6',\n",
       "   'NewtonMethods 0 0 7 7 1000000 newt_methods_wol_7x7',\n",
       "   'NewtonMethods 0 0 8 8 1000000 newt_methods_wol_8x8',\n",
       "   'NewtonMethods 0 0 9 9 1000000 newt_methods_wol_9x9',\n",
       "   'NewtonMethods 0 0 10 10 1000000 newt_methods_wol_10x10',\n",
       "   'NewtonMethods 0 0 12 12 1000000 newt_methods_wol_12x12',\n",
       "   'NewtonMethods 0 0 15 15 1000000 newt_methods_wol_15x15',\n",
       "   'NewtonMethods 0 0 20 20 1000000 newt_methods_wol_20x20'],\n",
       "  'Total time': [0.000196,\n",
       "   0.000364,\n",
       "   0.000285,\n",
       "   0.00034,\n",
       "   0.000431,\n",
       "   0.000745,\n",
       "   0.001,\n",
       "   0.002698,\n",
       "   0.017664],\n",
       "  'Total time evaluation': [9.7e-05,\n",
       "   0.00011,\n",
       "   8.2e-05,\n",
       "   0.000102,\n",
       "   0.000126,\n",
       "   0.000225,\n",
       "   0.000276,\n",
       "   0.000663,\n",
       "   0.003951],\n",
       "  'eval_f time': [0.0, 0.0, 0.0, 0.0, 0.0, 1e-05, 1e-05, 4e-05, 0.0003],\n",
       "  'eval_grad time': [0.0, 0.0, 0.0, 0.0, 0.0, 1e-05, 1e-05, 3e-05, 0.00018],\n",
       "  'eval_hessian time': [0.0001,\n",
       "   0.00011,\n",
       "   8e-05,\n",
       "   0.0001,\n",
       "   0.00012,\n",
       "   0.00021,\n",
       "   0.00026,\n",
       "   0.00059,\n",
       "   0.00347],\n",
       "  'Initial MassSpring system energy': [16340000.0,\n",
       "   23955900.0,\n",
       "   22714500.0,\n",
       "   27895300.0,\n",
       "   21715700.0,\n",
       "   25420000.0,\n",
       "   40147200.0,\n",
       "   71483900.0,\n",
       "   129769000.0],\n",
       "  'Objective Function Value': [44.1344,\n",
       "   59.6688,\n",
       "   77.2023,\n",
       "   96.6776,\n",
       "   118.048,\n",
       "   141.273,\n",
       "   193.156,\n",
       "   284.159,\n",
       "   469.605]},\n",
       " 'grad_desc': {'Command run': ['GradientDescent 0 1 5 5 1000000 grad_desc_wol_5x5',\n",
       "   'GradientDescent 0 1 6 6 1000000 grad_desc_wol_6x6',\n",
       "   'GradientDescent 0 1 7 7 1000000 grad_desc_wol_7x7',\n",
       "   'GradientDescent 0 1 8 8 1000000 grad_desc_wol_8x8',\n",
       "   'GradientDescent 0 1 9 9 1000000 grad_desc_wol_9x9',\n",
       "   'GradientDescent 0 1 10 10 1000000 grad_desc_wol_10x10',\n",
       "   'GradientDescent 0 1 12 12 1000000 grad_desc_wol_12x12',\n",
       "   'GradientDescent 0 1 15 15 1000000 grad_desc_wol_15x15',\n",
       "   'GradientDescent 0 1 20 20 1000000 grad_desc_wol_20x20'],\n",
       "  'Total time': [0.257341,\n",
       "   0.471255,\n",
       "   0.747772,\n",
       "   1.3777,\n",
       "   1.78893,\n",
       "   2.7807,\n",
       "   5.02514,\n",
       "   13.1082,\n",
       "   42.1092],\n",
       "  'Total time evaluation': [0.002141,\n",
       "   0.021089,\n",
       "   0.026853,\n",
       "   0.199025,\n",
       "   1.4132,\n",
       "   1.88774,\n",
       "   2.89428,\n",
       "   9.89445,\n",
       "   37.1972],\n",
       "  'eval_f time': [0.0012,\n",
       "   0.00285,\n",
       "   0.00305,\n",
       "   0.12873,\n",
       "   1.33828,\n",
       "   1.74188,\n",
       "   2.63794,\n",
       "   9.20844,\n",
       "   34.87043],\n",
       "  'eval_grad time': [0.00094,\n",
       "   0.01824,\n",
       "   0.02381,\n",
       "   0.0703,\n",
       "   0.07493,\n",
       "   0.14585,\n",
       "   0.25634,\n",
       "   0.686,\n",
       "   2.32674],\n",
       "  'eval_hessian time': [0.0, 0.0, 0.0, 0.0, 0.0, 0.0, 0.0, 0.0, 0.0],\n",
       "  'Initial MassSpring system energy': [16340000.0,\n",
       "   23955900.0,\n",
       "   22714500.0,\n",
       "   27895300.0,\n",
       "   21715700.0,\n",
       "   25420000.0,\n",
       "   40147200.0,\n",
       "   71483900.0,\n",
       "   129769000.0],\n",
       "  'Objective Function Value': [44.1344,\n",
       "   59.6688,\n",
       "   77.2023,\n",
       "   96.6776,\n",
       "   118.048,\n",
       "   141.273,\n",
       "   193.156,\n",
       "   284.159,\n",
       "   469.605]}}"
      ]
     },
     "execution_count": 28,
     "metadata": {},
     "output_type": "execute_result"
    }
   ],
   "source": [
    "dic"
   ]
  },
  {
   "cell_type": "code",
   "execution_count": 30,
   "id": "160b7928-7cc5-42c6-990c-bd8aa591a99a",
   "metadata": {},
   "outputs": [
    {
     "data": {
      "image/png": "[encoded data removed]",
      "text/plain": [
       "<Figure size 960x720 with 1 Axes>"
      ]
     },
     "metadata": {
      "needs_background": "light"
     },
     "output_type": "display_data"
    }
   ],
   "source": [
    "import matplotlib.pyplot as plt\n",
    "\n",
    "fig, ax = plt.subplots(figsize=(8, 6), dpi=120)\n",
    "ax.semilogy(dimensions,dic[\"newt_methods\"][\"eval_f time\"], linestyle='None', marker='*')\n",
    "ax.semilogy( dimensions,dic[\"grad_desc\"][\"eval_f time\"], linestyle='None', marker='*')\n",
    "ax.semilogy( dimensions,dic[\"lbfgs_m3\"][\"eval_f time\"], linestyle='None', marker='*')\n",
    "\n",
    "\n",
    "\n",
    "ax.legend([\"newt_methods\",\"grad_desc\",\"lbfgs_m3\"])\n",
    "\n",
    "\n",
    "ax.set_xlabel(r'Edge length', fontsize=15)\n",
    "ax.set_ylabel(r'time [s]', fontsize=15)\n",
    "ax.set_title('Computation total time')\n",
    "\n",
    "ax.grid(True)\n",
    "fig.tight_layout()\n",
    "\n",
    "plt.show()"
   ]
  },
  {
   "cell_type": "code",
   "execution_count": null,
   "id": "bc24ebb2-3357-429c-8ecc-c815937c7f4b",
   "metadata": {},
   "outputs": [],
   "source": []
  }
 ],
 "metadata": {
  "kernelspec": {
   "display_name": "Python 3 (ipykernel)",
   "language": "python",
   "name": "python3"
  },
  "language_info": {
   "codemirror_mode": {
    "name": "ipython",
    "version": 3
   },
   "file_extension": ".py",
   "mimetype": "text/x-python",
   "name": "python",
   "nbconvert_exporter": "python",
   "pygments_lexer": "ipython3",
   "version": "3.9.7"
  }
 },
 "nbformat": 4,
 "nbformat_minor": 5
}
