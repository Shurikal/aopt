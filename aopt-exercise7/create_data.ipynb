{
 "cells": [
  {
   "cell_type": "code",
   "execution_count": 37,
   "id": "4ba824aa-c086-460a-af36-681023e01aa1",
   "metadata": {},
   "outputs": [],
   "source": [
    "path = \"cmake-build-debug/Build/bin/\"\n",
    "\n",
    "max_iters = 1000000\n",
    "\n",
    "dimensions = [5,10,20]\n",
    "\n",
    "cmds = [{ \n",
    "            \"name\": \"gauss_newton\",\n",
    "            \"cmd\" : \"GaussNewton {function_index} {x} {y} {max_iter} {filename}\"\n",
    "        },\n",
    "        {\n",
    "            \"name\": \"lbfgs_m20\",\n",
    "            \"cmd\" : \"LBFGS {function_index} {x} {y} {m} {max_iter} {filename}\",\n",
    "            \"m\"   : 20\n",
    "            \n",
    "        },\n",
    "        {\n",
    "            \"name\": \"newt_methods\",\n",
    "            \"cmd\" : \"NewtonMethods {method} {function_index} {x} {y} {max_iter} {filename}\",\n",
    "            \"method\" : 0,\n",
    "            \"function_index\" : 2\n",
    "        },\n",
    "        {\n",
    "            \"name\": \"grad_desc\",\n",
    "            \"cmd\" : \"GradientDescent {function_index} 1 {x} {y} {max_iter} {filename}\"\n",
    "        }\n",
    "        ]"
   ]
  },
  {
   "cell_type": "code",
   "execution_count": 2,
   "id": "1cad5de8-86f1-4fb2-b5e5-aea01a6c6edc",
   "metadata": {},
   "outputs": [
    {
     "data": {
      "text/plain": [
       "'GradientDescent 1 1 1 1 20 asdf'"
      ]
     },
     "execution_count": 2,
     "metadata": {},
     "output_type": "execute_result"
    }
   ],
   "source": [
    "cmds[1][\"cmd\"].format(method=2,function_index=1,x=1,y=1,max_iter=20,filename=\"asdf\")"
   ]
  },
  {
   "cell_type": "code",
   "execution_count": 3,
   "id": "a0f473ad-a8cb-4adf-a936-4fd23a9a31d1",
   "metadata": {},
   "outputs": [],
   "source": [
    "def create_cmd(cmd_entry,size,function_index=0,max_iter=1000000):\n",
    "    spring = \"wol\" if function_index==0 else \"wl\"\n",
    "    m = 0\n",
    "    method = 0\n",
    "    if \"m\" in cmd_entry:\n",
    "        m = cmd_entry[\"m\"]\n",
    "    if \"method\" in cmd_entry:\n",
    "        method = cmd_entry[\"method\"]\n",
    "    if \"function_index\" in cmd_entry and function_index == 1:\n",
    "        function_index = cmd_entry[\"function_index\"]\n",
    "        spring = \"wl_pHess\"\n",
    "    \n",
    "    return cmd_entry[\"cmd\"].format(function_index=function_index,\n",
    "                                   x=size,\n",
    "                                   y=size,\n",
    "                                   max_iter=max_iter,\n",
    "                                   filename=cmd_entry[\"name\"]+\"_\"+spring+\"_\"+str(size)+\"x\"+str(size),\n",
    "                                   m=m,\n",
    "                                   method=method)"
   ]
  },
  {
   "cell_type": "code",
   "execution_count": 4,
   "id": "eb48fb48-6b18-44c4-b1ae-2c32e1f2d8d4",
   "metadata": {},
   "outputs": [
    {
     "data": {
      "text/plain": [
       "'LBFGS 1 5 5 20 1000000 lbfgs_m20_wl_5x5'"
      ]
     },
     "execution_count": 4,
     "metadata": {},
     "output_type": "execute_result"
    }
   ],
   "source": [
    "create_cmd(cmds[2],5,1)"
   ]
  },
  {
   "cell_type": "markdown",
   "id": "7a28a93b-186c-4ced-85cc-aa444bbcdc94",
   "metadata": {},
   "source": [
    "# Different commands\n",
    "\n",
    "❯ ./GaussNewton\n",
    "Usage: input should be 'function index(0: f without length, 1: f with length), number of grid in x, number of grid in y, max iteration, filename', e.g. ./GaussNewton 1 20 20 10000 /usr/spring\n",
    "\n",
    "❯ ./GradientDescent\n",
    "Usage: input should be 'function index(0: f without length, 1: f with length),constrained spring scenario  (1 or 2 )number of grid in x, number of grid in y, max iteration, filename', e.g. ./GradientDescent 0 2 2 10000 /usr/spring\n",
    "\n",
    "❯ ./LBFGS\n",
    "Usage: input should be 'function index(0: f without length, 1: f with length), number of grid in x, number of grid in y, m, max iteration, filename', e.g. ./LBFGS 1 20 20 10 10000 /usr/spring\n",
    "\n",
    "❯ ./NewtonMethods\n",
    "Usage: input should be 'newton's method(0: standard newton, 1: projected hessian),function index(0: f without length, 1: f with length, 2: f with length with positive local hessian), number of grid in x, number of grid in y, max iteration, filename', e.g. ./NewtonMethods 0 0 2 2 10000 /usr/spring"
   ]
  },
  {
   "cell_type": "code",
   "execution_count": 5,
   "id": "fc0fdc51-b91f-4eda-9b39-e1254fb589ea",
   "metadata": {},
   "outputs": [
    {
     "name": "stdout",
     "output_type": "stream",
     "text": [
      "/Users/chris/Documents/GitHub/aopt/aopt-exercise7\n"
     ]
    }
   ],
   "source": [
    "import os\n",
    "print(os.getcwd())"
   ]
  },
  {
   "cell_type": "code",
   "execution_count": 6,
   "id": "2b78ea08-19b0-444b-95f9-0df7faac91dc",
   "metadata": {},
   "outputs": [],
   "source": [
    "os.chdir(path)\n"
   ]
  },
  {
   "cell_type": "code",
   "execution_count": 7,
   "id": "f0f29053-01c4-411b-965d-ab442e40c139",
   "metadata": {},
   "outputs": [
    {
     "name": "stdout",
     "output_type": "stream",
     "text": [
      "/Users/chris/Documents/GitHub/aopt/aopt-exercise7/cmake-build-debug/Build/bin\n"
     ]
    }
   ],
   "source": [
    "print(os.getcwd())"
   ]
  },
  {
   "cell_type": "code",
   "execution_count": 72,
   "id": "d7bde0bc-f703-49c3-9969-46274b30b418",
   "metadata": {},
   "outputs": [],
   "source": [
    "results = {\n",
    "            \"Spring without length\": {},\n",
    "            \"Spring with length\":    {}\n",
    "}"
   ]
  },
  {
   "cell_type": "markdown",
   "id": "df2fd56e-93b3-45bf-914d-1533a0929c72",
   "metadata": {},
   "source": [
    "### Regex match group to get numbers\n",
    "\n",
    "group(1) = Total time<br>\n",
    "group(2) = Total time evaluation<br>\n",
    "group(3) = eval_f time<br>\n",
    "group(4) = eval_grad time <br>\n",
    "group(5) = eval_hessian time"
   ]
  },
  {
   "cell_type": "code",
   "execution_count": 71,
   "id": "94f49c6b-23cd-4582-af06-a0408629355a",
   "metadata": {},
   "outputs": [],
   "source": [
    "import re\n",
    "from subprocess import PIPE, Popen\n",
    "size = 5\n",
    "spring_type = \"Spring without length\"\n",
    "for cmd_entry in cmds[:3]:\n",
    "    results[spring_type][cmd_entry[\"name\"]] = {\n",
    "        \"Command run\" : [],\n",
    "        \"Total time\" : [],\n",
    "        \"Total time evaluation\" : [],\n",
    "        \"eval_f time\" : [],\n",
    "        \"eval_grad time\" : [],\n",
    "        \"eval_hessian time\" : [],\n",
    "        \"Initial MassSpring system energy\" : [],\n",
    "        \"Objective Function Value\" : [],\n",
    "    }\n",
    "    \n",
    "    #for size in dimensions:\n",
    "    cmd = create_cmd(cmd_entry,size)\n",
    "    results[spring_type][cmd_entry[\"name\"]][\"Command run\"].append(cmd)\n",
    "    p = Popen(\"./\"+cmd, shell=True, stdout=PIPE, stderr=PIPE)\n",
    "    stdout, stderr = p.communicate()\n",
    "    system_energy_pattern = re.compile(r\".*energy[ ]*is[ ](-?[\\d.]+(?:e[+-]?\\d+)?).*obj[ ]*=[ ]*(-?[\\d.]+(?:e[+-]?\\d+)?).*\")\n",
    "    for match in system_energy_pattern.finditer(str(stdout)):\n",
    "        results[spring_type][cmd_entry[\"name\"]][\"Initial MassSpring system energy\"].append((size,match.group(1)))\n",
    "        results[spring_type][cmd_entry[\"name\"]][\"Objective Function Value\"].append((size,match.group(2)))\n",
    "\n",
    "    timing_pattern = re.compile(r\".*total[ ]*time[ ]*:[ ]*(-?[\\d.]+(?:e[-+]?\\d+)?)s.*total[ ]*time[ ]*evaluation[ ]*:[ ]*(-?[\\d.]+(?:e[-+]?\\d+)?)s.*eval_f[ ]*time[ ]*:[ ]*(-?[\\d.]+(?:e[-+]?\\d+)?)s.*eval_grad[ ]*time[ ]*:[ ]*(-?[\\d.]+(?:e[-+]?\\d+)?)s.*eval_hess[ ]*time[ ]*:[ ]*(-?[\\d.]+(?:e[-+]?\\d+)?)s.*\", re.MULTILINE | re.DOTALL)\n",
    "    #print(cmd)\n",
    "    #print(stderr)\n",
    "    #print(stdout)\n",
    "    for match in timing_pattern.finditer(str(stderr)):\n",
    "        results[spring_type][cmd_entry[\"name\"]][\"Total time\"].append((size,match.group(1)))\n",
    "        results[spring_type][cmd_entry[\"name\"]][\"Total time evaluation\"].append((size,match.group(2)))\n",
    "        results[spring_type][cmd_entry[\"name\"]][\"eval_f time\"].append((size,match.group(3)))\n",
    "        results[spring_type][cmd_entry[\"name\"]][\"eval_grad time\"].append((size,match.group(4)))\n",
    "        results[spring_type][cmd_entry[\"name\"]][\"eval_hessian time\"].append((size,match.group(5)))\n",
    "\n",
    "\n",
    "    "
   ]
  },
  {
   "cell_type": "code",
   "execution_count": 88,
   "id": "a5d6e81e-5561-40e9-98cd-5944ea2d7887",
   "metadata": {},
   "outputs": [],
   "source": [
    "import re\n",
    "from subprocess import PIPE, Popen\n",
    "\n",
    "\n",
    "for size in dimensions[:1]:\n",
    "    spring_type = \"Spring without length\"\n",
    "    \n",
    "    cache = {}\n",
    "    \n",
    "    for cmd_entry in cmds:\n",
    "        cache[cmd_entry[\"name\"]] = {\n",
    "            \"Command run\" : None,\n",
    "            \"Total time\" : None,\n",
    "            \"Total time evaluation\" : None,\n",
    "            \"eval_f time\" : None,\n",
    "            \"eval_grad time\" : None,\n",
    "            \"eval_hessian time\" : None,\n",
    "            \"Initial MassSpring system energy\" : None,\n",
    "            \"Objective Function Value\" : None,\n",
    "        }\n",
    "\n",
    "        #for size in dimensions:\n",
    "        cmd = create_cmd(cmd_entry,size)\n",
    "        cache[cmd_entry[\"name\"]][\"Command run\"]= cmd\n",
    "        p = Popen(\"./\"+cmd, shell=True, stdout=PIPE, stderr=PIPE)\n",
    "        stdout, stderr = p.communicate()\n",
    "        system_energy_pattern = re.compile(r\".*energy[ ]*is[ ](-?[\\d.]+(?:e[+-]?\\d+)?).*obj[ ]*=[ ]*(-?[\\d.]+(?:e[+-]?\\d+)?).*\")\n",
    "        for match in system_energy_pattern.finditer(str(stdout)):\n",
    "            cache[cmd_entry[\"name\"]][\"Initial MassSpring system energy\"]=match.group(1)\n",
    "            cache[cmd_entry[\"name\"]][\"Objective Function Value\"]= match.group(2)\n",
    "\n",
    "        timing_pattern = re.compile(r\".*total[ ]*time[ ]*:[ ]*(-?[\\d.]+(?:e[-+]?\\d+)?)s.*total[ ]*time[ ]*evaluation[ ]*:[ ]*(-?[\\d.]+(?:e[-+]?\\d+)?)s.*eval_f[ ]*time[ ]*:[ ]*(-?[\\d.]+(?:e[-+]?\\d+)?)s.*eval_grad[ ]*time[ ]*:[ ]*(-?[\\d.]+(?:e[-+]?\\d+)?)s.*eval_hess[ ]*time[ ]*:[ ]*(-?[\\d.]+(?:e[-+]?\\d+)?)s.*\", re.MULTILINE | re.DOTALL)\n",
    "        #print(cmd)\n",
    "        #print(stderr)\n",
    "        #print(stdout)\n",
    "        for match in timing_pattern.finditer(str(stderr)):\n",
    "            cache[cmd_entry[\"name\"]][\"Total time\"]= match.group(1)\n",
    "            cache[cmd_entry[\"name\"]][\"Total time evaluation\"]=match.group(2)\n",
    "            cache[cmd_entry[\"name\"]][\"eval_f time\"]=match.group(3)\n",
    "            cache[cmd_entry[\"name\"]][\"eval_grad time\"]=match.group(4)\n",
    "            cache[cmd_entry[\"name\"]][\"eval_hessian time\"]=match.group(5)\n",
    "    results[spring_type][str(size)] = cache\n",
    "\n",
    "    "
   ]
  },
  {
   "cell_type": "code",
   "execution_count": 89,
   "id": "740ae334-da66-4021-9319-e2a6bd9da70e",
   "metadata": {},
   "outputs": [
    {
     "data": {
      "text/html": [
       "<div>\n",
       "<style scoped>\n",
       "    .dataframe tbody tr th:only-of-type {\n",
       "        vertical-align: middle;\n",
       "    }\n",
       "\n",
       "    .dataframe tbody tr th {\n",
       "        vertical-align: top;\n",
       "    }\n",
       "\n",
       "    .dataframe thead th {\n",
       "        text-align: right;\n",
       "    }\n",
       "</style>\n",
       "<table border=\"1\" class=\"dataframe\">\n",
       "  <thead>\n",
       "    <tr style=\"text-align: right;\">\n",
       "      <th></th>\n",
       "      <th>gauss_newton</th>\n",
       "      <th>lbfgs_m20</th>\n",
       "      <th>newt_methods</th>\n",
       "      <th>grad_desc</th>\n",
       "    </tr>\n",
       "  </thead>\n",
       "  <tbody>\n",
       "    <tr>\n",
       "      <th>Command run</th>\n",
       "      <td>GaussNewton 0 5 5 1000000 gauss_newton_wol_5x5</td>\n",
       "      <td>LBFGS 0 5 5 20 1000000 lbfgs_m20_wol_5x5</td>\n",
       "      <td>NewtonMethods 0 0 5 5 1000000 newt_methods_wol...</td>\n",
       "      <td>GradientDescent 0 1 5 5 1000000 grad_desc_wol_5x5</td>\n",
       "    </tr>\n",
       "    <tr>\n",
       "      <th>Total time</th>\n",
       "      <td>0.000656</td>\n",
       "      <td>0.000442</td>\n",
       "      <td>0.000263</td>\n",
       "      <td>0.264996</td>\n",
       "    </tr>\n",
       "    <tr>\n",
       "      <th>Total time evaluation</th>\n",
       "      <td>0</td>\n",
       "      <td>4e-06</td>\n",
       "      <td>8.4e-05</td>\n",
       "      <td>0.002473</td>\n",
       "    </tr>\n",
       "    <tr>\n",
       "      <th>eval_f time</th>\n",
       "      <td>0.00000</td>\n",
       "      <td>0.00000</td>\n",
       "      <td>0.00000</td>\n",
       "      <td>0.00047</td>\n",
       "    </tr>\n",
       "    <tr>\n",
       "      <th>eval_grad time</th>\n",
       "      <td>0.00000</td>\n",
       "      <td>0.00000</td>\n",
       "      <td>0.00000</td>\n",
       "      <td>0.00200</td>\n",
       "    </tr>\n",
       "    <tr>\n",
       "      <th>eval_hessian time</th>\n",
       "      <td>0.00000</td>\n",
       "      <td>0.00000</td>\n",
       "      <td>0.00008</td>\n",
       "      <td>0.00000</td>\n",
       "    </tr>\n",
       "    <tr>\n",
       "      <th>Initial MassSpring system energy</th>\n",
       "      <td>None</td>\n",
       "      <td>1.634e+07</td>\n",
       "      <td>1.634e+07</td>\n",
       "      <td>1.634e+07</td>\n",
       "    </tr>\n",
       "    <tr>\n",
       "      <th>Objective Function Value</th>\n",
       "      <td>None</td>\n",
       "      <td>1.634e+07</td>\n",
       "      <td>44.1344</td>\n",
       "      <td>44.1344</td>\n",
       "    </tr>\n",
       "  </tbody>\n",
       "</table>\n",
       "</div>"
      ],
      "text/plain": [
       "                                                                    gauss_newton  \\\n",
       "Command run                       GaussNewton 0 5 5 1000000 gauss_newton_wol_5x5   \n",
       "Total time                                                              0.000656   \n",
       "Total time evaluation                                                          0   \n",
       "eval_f time                                                              0.00000   \n",
       "eval_grad time                                                           0.00000   \n",
       "eval_hessian time                                                        0.00000   \n",
       "Initial MassSpring system energy                                            None   \n",
       "Objective Function Value                                                    None   \n",
       "\n",
       "                                                                 lbfgs_m20  \\\n",
       "Command run                       LBFGS 0 5 5 20 1000000 lbfgs_m20_wol_5x5   \n",
       "Total time                                                        0.000442   \n",
       "Total time evaluation                                                4e-06   \n",
       "eval_f time                                                        0.00000   \n",
       "eval_grad time                                                     0.00000   \n",
       "eval_hessian time                                                  0.00000   \n",
       "Initial MassSpring system energy                                 1.634e+07   \n",
       "Objective Function Value                                         1.634e+07   \n",
       "\n",
       "                                                                       newt_methods  \\\n",
       "Command run                       NewtonMethods 0 0 5 5 1000000 newt_methods_wol...   \n",
       "Total time                                                                 0.000263   \n",
       "Total time evaluation                                                       8.4e-05   \n",
       "eval_f time                                                                 0.00000   \n",
       "eval_grad time                                                              0.00000   \n",
       "eval_hessian time                                                           0.00008   \n",
       "Initial MassSpring system energy                                          1.634e+07   \n",
       "Objective Function Value                                                    44.1344   \n",
       "\n",
       "                                                                          grad_desc  \n",
       "Command run                       GradientDescent 0 1 5 5 1000000 grad_desc_wol_5x5  \n",
       "Total time                                                                 0.264996  \n",
       "Total time evaluation                                                      0.002473  \n",
       "eval_f time                                                                 0.00047  \n",
       "eval_grad time                                                              0.00200  \n",
       "eval_hessian time                                                           0.00000  \n",
       "Initial MassSpring system energy                                          1.634e+07  \n",
       "Objective Function Value                                                    44.1344  "
      ]
     },
     "execution_count": 89,
     "metadata": {},
     "output_type": "execute_result"
    }
   ],
   "source": [
    "df = pd.DataFrame(data=results[\"Spring without length\"][\"5\"])\n",
    "df"
   ]
  },
  {
   "cell_type": "code",
   "execution_count": null,
   "id": "c5e6538a-b095-4e0e-b0fe-a27d47d41feb",
   "metadata": {},
   "outputs": [],
   "source": []
  }
 ],
 "metadata": {
  "kernelspec": {
   "display_name": "Python 3 (ipykernel)",
   "language": "python",
   "name": "python3"
  },
  "language_info": {
   "codemirror_mode": {
    "name": "ipython",
    "version": 3
   },
   "file_extension": ".py",
   "mimetype": "text/x-python",
   "name": "python",
   "nbconvert_exporter": "python",
   "pygments_lexer": "ipython3",
   "version": "3.9.7"
  }
 },
 "nbformat": 4,
 "nbformat_minor": 5
}
